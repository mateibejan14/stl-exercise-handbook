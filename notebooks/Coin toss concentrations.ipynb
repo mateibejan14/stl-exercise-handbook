{
 "cells": [
  {
   "cell_type": "code",
   "execution_count": 2,
   "id": "czech-privacy",
   "metadata": {},
   "outputs": [],
   "source": [
    "import numpy as np\n",
    "import math"
   ]
  },
  {
   "cell_type": "code",
   "execution_count": 76,
   "id": "banned-indicator",
   "metadata": {},
   "outputs": [],
   "source": [
    "epsilon = 0.1\n",
    "\n",
    "m_range = [2, 100]\n",
    "n_range = [10, 100, 500, 1000]\n",
    "\n",
    "m = 100\n",
    "n = 100"
   ]
  },
  {
   "cell_type": "code",
   "execution_count": 96,
   "id": "sophisticated-string",
   "metadata": {},
   "outputs": [],
   "source": [
    "# The obtained upperbound for 1 biased coin in m coins, for n tosses.\n",
    "(m-1) * math.exp(n*(epsilon**2))\n",
    "\n",
    "def hoeffdingers_bound(m, n, epsilon):\n",
    "    return (m-1) * math.exp(n*(epsilon**2))"
   ]
  },
  {
   "cell_type": "code",
   "execution_count": 104,
   "id": "accompanied-theory",
   "metadata": {},
   "outputs": [
    {
     "data": {
      "text/plain": [
       "99.9281"
      ]
     },
     "execution_count": 104,
     "metadata": {},
     "output_type": "execute_result"
    }
   ],
   "source": [
    "def P_is(n, epsilon):\n",
    "    P_1 = np.random.binomial(n, p=0.5+epsilon)\n",
    "    return [P_1-np.random.binomial(n, p=0.5) for i in range(m-1)]\n",
    "    \n",
    "def emperical_proportion(m, n, epsilon, N=10000):\n",
    "    return np.mean([P_is(n, epsilon) for i in range(N)])\n",
    "\n",
    "# The actual emperical result, for m=2\n",
    "np.mean([np.random.binomial(n, p=0.5+epsilon)-np.random.binomial(n, p=0.5) for i in range(N)])"
   ]
  },
  {
   "cell_type": "code",
   "execution_count": 105,
   "id": "conceptual-morgan",
   "metadata": {},
   "outputs": [
    {
     "name": "stdout",
     "output_type": "stream",
     "text": [
      "n = 10 , m =  2 epsilon = 0.1\n",
      "Hoeffdinger's bound: 1.1051709180756477\n",
      "Emperical proportion: 0.9947 \n",
      "\n",
      "n = 100 , m =  2 epsilon = 0.1\n",
      "Hoeffdinger's bound: 2.718281828459046\n",
      "Emperical proportion: 9.9411 \n",
      "\n",
      "n = 500 , m =  2 epsilon = 0.1\n",
      "Hoeffdinger's bound: 148.41315910257674\n",
      "Emperical proportion: 50.1412 \n",
      "\n",
      "n = 1000 , m =  2 epsilon = 0.1\n",
      "Hoeffdinger's bound: 22026.465794806754\n",
      "Emperical proportion: 100.3317 \n",
      "\n",
      "n = 10 , m =  100 epsilon = 0.1\n",
      "Hoeffdinger's bound: 109.41192088948912\n",
      "Emperical proportion: 1.015032323232323 \n",
      "\n",
      "n = 100 , m =  100 epsilon = 0.1\n",
      "Hoeffdinger's bound: 269.10990101744557\n",
      "Emperical proportion: 9.966727272727274 \n",
      "\n",
      "n = 500 , m =  100 epsilon = 0.1\n",
      "Hoeffdinger's bound: 14692.902751155098\n",
      "Emperical proportion: 50.09201717171718 \n",
      "\n",
      "n = 1000 , m =  100 epsilon = 0.1\n",
      "Hoeffdinger's bound: 2180620.1136858687\n",
      "Emperical proportion: 99.87771212121211 \n",
      "\n"
     ]
    }
   ],
   "source": [
    "for m in m_range:\n",
    "    for n in n_range:\n",
    "        print(\"n =\", n, \", m = \", m, \"epsilon =\", epsilon)\n",
    "        print(\"Hoeffdinger's bound:\", hoeffdingers_bound(m, n, epsilon))\n",
    "        print(\"Emperical proportion:\", emperical_proportion(m, n, epsilon), \"\\n\")"
   ]
  },
  {
   "cell_type": "markdown",
   "id": "everyday-burns",
   "metadata": {},
   "source": [
    "<b>Example 5.1</b>\\\n",
    "How many flips of the coin will we need to ensure we make the right decision with high probability? Formally, given $\\delta>0$ small, how many coin flips do we need to ensure the probability of making an error is smaller than $\\delta ?$ Suppose $p=1 / 2-\\varepsilon,$ for $\\varepsilon>0 .$ We make an error if $\\hat{p} \\geq 1 / 2 .$ What is the probability of error? We can use Hoeffding's inequality we get that\n",
    "$$\n",
    "\\begin{aligned}\n",
    "\\mathbb{P}(\\hat{p} \\geq 1 / 2) &=\\mathbb{P}(\\hat{p}-p \\geq 1 / 2-p) \\\\\n",
    "&=\\mathbb{P}\\left(\\frac{1}{n} \\sum_{i=1}^{n}\\left(X_{i}-p\\right) \\geq \\varepsilon\\right) \\\\\n",
    "&=\\mathbb{P}\\left(\\sum_{i=1}^{n}\\left(X_{i}-p\\right) \\geq n \\varepsilon\\right) \\\\\n",
    "& \\leq e^{-\\frac{2(n \\varepsilon)^{2}}{n}}=e^{-2 n \\varepsilon^{2}}\n",
    "\\end{aligned}\n",
    "$$\n",
    "So, to ensure the probability of error is no larger than $\\delta$ we should take $n$ so that $e^{-2 n \\varepsilon^{2}} \\leq \\delta,$ which means\n",
    "$$\n",
    "n \\geq \\frac{1}{2 \\varepsilon^{2}} \\log \\left(\\frac{1}{\\delta}\\right)\n",
    "$$"
   ]
  },
  {
   "cell_type": "markdown",
   "id": "bibliographic-calcium",
   "metadata": {},
   "source": [
    "<b>Example 5.2</b> \\ \n",
    "Consider the setting in the example above. We can use Hoeffding's inequality to construct an interval estimate for $p$, namely write\n",
    "$$\n",
    "\\mathbb{P}\\left(\\left|\\hat{p}_{n}-p\\right| \\geq t\\right) \\leq 2 e^{-2 n t^{2}}\n",
    "$$\n",
    "Now let $\\delta=2 e^{-2 n t^{2}}$ and solve for $t,$ so that $t=\\sqrt{\\frac{\\log (2 / \\delta)}{2 n}} .$ We conclude that\n",
    "$$\n",
    "\\mathbb{P}\\left(p \\in\\left[\\hat{p}_{n}-\\sqrt{\\frac{\\log (2 / \\delta)}{2 n}}, \\hat{p}_{n}+\\sqrt{\\frac{\\log (2 / \\delta)}{2 n}}\\right]\\right) \\geq 1-\\delta\n",
    "$$\n",
    "This means that such an interval contains the true unknown parameter with probability at least $1-\\delta$. <b>This interval is valid for any fixed sample size $n$ but not for various values of $n$ simultaneously</b>. However, for any sequence of sample sizes, it is possible to construct a sequence of intervals such that ALL of them contain the true parameter $p$ with probability at least $1-\\delta$. A way to do it is to use a simple union bound. What we desire to do is to construct intervals $I_{n}$ such that\n",
    "$$\n",
    "\\mathbb{P}\\left(\\forall_{n} \\in \\mathbb{N} \\quad p \\in I_{n}\\right) \\geq 1-\\delta\n",
    "$$\n",
    "In other words, the intervals $I_{n}$ are confidence intervals that are valid for all $n$ simultaneously. To get such a result we will use a very simple union bound argument.\n",
    "$$\n",
    "\\mathbb{P}\\left(\\forall n \\in \\mathbb{N} \\quad p \\in I_{n}\\right)=1-\\mathbb{P}\\left(\\exists n \\in \\mathbb{N}: p \\notin I_{n}\\right)\n",
    "$$\n",
    "$$\n",
    "\\begin{array}{l}\n",
    "=1-\\mathbb{P}\\left(\\bigcup_{n \\in \\mathbb{N}}\\left\\{p \\notin I_{n}\\right\\}\\right) \\\\\n",
    "\\geq 1-\\sum_{n=1}^{\\infty} \\mathbb{P}\\left(p \\notin I_{n}\\right)\n",
    "\\end{array}\n",
    "$$\n",
    "Now note that the terms in the sum can be bounded as above by Hoeffding's inequality, but with a careful choice of the confidence level so that all these probabilities sum to $\\delta$. Let $\\delta_{n}=\\frac{\\delta}{n(n+1)}$ and define\n",
    "$$\n",
    "\\begin{aligned}\n",
    "I_{n} &=\\left[\\hat{p}_{n}-\\sqrt{\\frac{\\log \\left(\\frac{2}{\\delta_{n}}\\right)}{2 n}}, \\hat{p}_{n}+\\sqrt{\\frac{\\log \\left(\\frac{2}{\\delta_{n}}\\right)}{2 n}}\\right] \\\\\n",
    "&=\\left[\\hat{p}_{n}-\\sqrt{\\frac{\\log (n(n+1))+\\log \\left(\\frac{2}{\\delta}\\right)}{2 n}}, \\hat{p}_{n}+\\sqrt{\\frac{\\log (n(n+1))+\\log \\left(\\frac{2}{\\delta}\\right)}{2 n}}\\right]\n",
    "\\end{aligned}\n",
    "$$\n",
    "Then\n",
    "$$\n",
    "\\begin{aligned}\n",
    "\\mathbb{P}\\left(\\forall n \\in \\mathbb{N} p \\in I_{n}\\right) & \\geq 1-\\sum_{n=1}^{\\infty} \\mathbb{P}\\left(p \\notin I_{n}\\right) \\\\\n",
    "& \\geq 1-\\sum_{n=1}^{\\infty} \\delta_{n}=1-\\delta \\sum_{n=1}^{\\infty} \\frac{1}{n(n+1)}=1-\\delta\n",
    "\\end{aligned}\n",
    "$$\n",
    "This means that we can just go on flipping the coin until $1 / 2$ is not contained in one of the intervals, and decide the direction of the bias based on the final interval. \n",
    "\n",
    "Actually, in light of the law of the iterated logarithm, the $\\log (n(n+1))$ appears to be a bit of overkill and we would expect something like $\\log \\log (n)$ instead. "
   ]
  },
  {
   "cell_type": "code",
   "execution_count": null,
   "id": "satisfactory-entry",
   "metadata": {},
   "outputs": [],
   "source": [
    "# Coin toss concentrations\n",
    "delta = 0.1"
   ]
  },
  {
   "cell_type": "code",
   "execution_count": 20,
   "id": "social-entrepreneur",
   "metadata": {},
   "outputs": [],
   "source": [
    "def calculate_CI(n, x, delta):\n",
    "    ci = np.sqrt((np.log(2/delta))/(2*n))\n",
    "    upper_ci = (np.mean(x) + ci)\n",
    "    lower_ci = (np.mean(x) - ci)\n",
    "    return lower_ci, upper_ci\n",
    "\n",
    "\n",
    "def run_experiment(experiment, delta=0.1, N=10000):\n",
    "    half_in_ci = 0\n",
    "    np.random.seed(experiment)\n",
    "    x_i = [np.random.binomial(1, p=0.5) for i in range(10000)]\n",
    "    \n",
    "    for i in range(3, N):\n",
    "        low, up = calculate_CI(i, x_i[:i], delta)\n",
    "        if low > 0.5 or up < 0.5:\n",
    "            half_in_ci = 1\n",
    "            return half_in_ci\n",
    "    return half_in_ci"
   ]
  },
  {
   "cell_type": "code",
   "execution_count": 21,
   "id": "gentle-wrapping",
   "metadata": {},
   "outputs": [
    {
     "name": "stdout",
     "output_type": "stream",
     "text": [
      "delta = 0.1, proportion:  0.22\n"
     ]
    },
    {
     "data": {
      "text/plain": [
       "('delta = 0.9, proportion: ', 0.96)"
      ]
     },
     "execution_count": 21,
     "metadata": {},
     "output_type": "execute_result"
    }
   ],
   "source": [
    "n_experiments = 50\n",
    "\n",
    "porp = [run_experiment(experiment=i, delta=0.1, N=1000) for i in range(n_experiments)]\n",
    "print(\"delta = 0.1, proportion: \", sum(porp)/n_experiments)\n",
    "\n",
    "porp = [run_experiment(experiment=i, delta=1-delta, N=1000) for i in range(n_experiments)]\n",
    "\"delta = 0.9, proportion: \", sum(porp)/n_experiments"
   ]
  },
  {
   "cell_type": "code",
   "execution_count": 12,
   "id": "clear-divide",
   "metadata": {},
   "outputs": [],
   "source": [
    "def calculate_CI(n, x, delta):\n",
    "    ci = np.sqrt((np.log(n*(n+1)) + np.log(2/delta))/(2*n))\n",
    "    upper_ci = (np.mean(x) + ci)\n",
    "    lower_ci = (np.mean(x) - ci)\n",
    "    return lower_ci, upper_ci\n",
    "\n",
    "\n",
    "def run_experiment(experiment, delta=0.1, N=10000):\n",
    "    half_in_ci = 0\n",
    "    np.random.seed(experiment)\n",
    "    x_i = [np.random.binomial(1, p=0.5) for i in range(10000)]\n",
    "    \n",
    "    for i in range(3, N):\n",
    "        low, up = calculate_CI(i, x_i[:i], delta)\n",
    "        if low > 0.5 or up < 0.5:\n",
    "            half_in_ci = 1\n",
    "            return half_in_ci\n",
    "    return half_in_ci"
   ]
  },
  {
   "cell_type": "code",
   "execution_count": 14,
   "id": "aggressive-spokesman",
   "metadata": {},
   "outputs": [
    {
     "name": "stdout",
     "output_type": "stream",
     "text": [
      "delta = 0.1, proportion:  0.0\n"
     ]
    },
    {
     "data": {
      "text/plain": [
       "('delta = 0.9, proportion: ', 0.0)"
      ]
     },
     "execution_count": 14,
     "metadata": {},
     "output_type": "execute_result"
    }
   ],
   "source": [
    "n_experiments = 50\n",
    "\n",
    "porp = [run_experiment(experiment=i, delta=0.1, N=1000) for i in range(n_experiments)]\n",
    "print(\"delta = 0.1, proportion: \", sum(porp)/n_experiments)\n",
    "\n",
    "porp = [run_experiment(experiment=i, delta=1-delta, N=1000) for i in range(n_experiments)]\n",
    "\"delta = 0.9, proportion: \", sum(porp)/n_experiments"
   ]
  },
  {
   "cell_type": "code",
   "execution_count": 18,
   "id": "noticed-motion",
   "metadata": {},
   "outputs": [],
   "source": [
    "def calculate_CI(n, x, delta):\n",
    "    ci = np.sqrt((np.log(np.log(n)) + np.log(2/delta))/(2*n))\n",
    "    upper_ci = (np.mean(x) + ci)\n",
    "    lower_ci = (np.mean(x) - ci)\n",
    "    return lower_ci, upper_ci\n",
    "\n",
    "\n",
    "def run_experiment(experiment, delta=0.1, N=10000):\n",
    "    half_in_ci = 0\n",
    "    np.random.seed(experiment)\n",
    "    x_i = [np.random.binomial(1, p=0.5) for i in range(10000)]\n",
    "    \n",
    "    for i in range(3, N):\n",
    "        low, up = calculate_CI(i, x_i[:i], delta)\n",
    "        if low > 0.5 or up < 0.5:\n",
    "            half_in_ci = 1\n",
    "            return half_in_ci\n",
    "    return half_in_ci"
   ]
  },
  {
   "cell_type": "code",
   "execution_count": 19,
   "id": "qualified-brazilian",
   "metadata": {},
   "outputs": [
    {
     "name": "stdout",
     "output_type": "stream",
     "text": [
      "delta = 0.1, proportion:  0.04\n"
     ]
    },
    {
     "data": {
      "text/plain": [
       "('delta = 0.9, proportion: ', 0.58)"
      ]
     },
     "execution_count": 19,
     "metadata": {},
     "output_type": "execute_result"
    }
   ],
   "source": [
    "n_experiments = 50\n",
    "\n",
    "porp = [run_experiment(experiment=i, delta=0.1, N=1000) for i in range(n_experiments)]\n",
    "print(\"delta = 0.1, proportion: \", sum(porp)/n_experiments)\n",
    "\n",
    "porp = [run_experiment(experiment=i, delta=1-delta, N=1000) for i in range(n_experiments)]\n",
    "\"delta = 0.9, proportion: \", sum(porp)/n_experiments"
   ]
  },
  {
   "cell_type": "code",
   "execution_count": null,
   "id": "trying-bacon",
   "metadata": {},
   "outputs": [],
   "source": []
  }
 ],
 "metadata": {
  "kernelspec": {
   "display_name": "Python 3",
   "language": "python",
   "name": "python3"
  },
  "language_info": {
   "codemirror_mode": {
    "name": "ipython",
    "version": 3
   },
   "file_extension": ".py",
   "mimetype": "text/x-python",
   "name": "python",
   "nbconvert_exporter": "python",
   "pygments_lexer": "ipython3",
   "version": "3.9.1"
  }
 },
 "nbformat": 4,
 "nbformat_minor": 5
}

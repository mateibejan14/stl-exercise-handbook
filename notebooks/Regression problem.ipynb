{
 "cells": [
  {
   "cell_type": "code",
   "execution_count": 81,
   "metadata": {},
   "outputs": [],
   "source": [
    "import numpy as np\n",
    "import matplotlib.pyplot as plt"
   ]
  },
  {
   "cell_type": "code",
   "execution_count": 82,
   "metadata": {},
   "outputs": [
    {
     "name": "stderr",
     "output_type": "stream",
     "text": [
      "/Users/robvangastel/miniconda3/lib/python3.7/site-packages/ipykernel_launcher.py:4: RuntimeWarning: covariance is not symmetric positive-semidefinite.\n",
      "  after removing the cwd from sys.path.\n"
     ]
    },
    {
     "data": {
      "image/png": "[encoded data removed]",
      "text/plain": [
       "<Figure size 432x288 with 1 Axes>"
      ]
     },
     "metadata": {
      "needs_background": "light"
     },
     "output_type": "display_data"
    }
   ],
   "source": [
    "mean = [0, 0]\n",
    "cov = [[1, 0], [30, 20]]  # diagonal covariance\n",
    "\n",
    "D_x, D_y = np.random.multivariate_normal(mean, cov, 100).T\n",
    "\n",
    "def plot(D_x, D_y):\n",
    "    plt.plot(D_x, D_y, 'x')\n",
    "    plt.axis('equal')\n",
    "    plt.show()\n",
    "    \n",
    "plot(D_x, D_y)"
   ]
  },
  {
   "cell_type": "markdown",
   "metadata": {},
   "source": [
    "<b>Example 1.5.</b> Consider a regression setting with $X=\\mathbb{R}, \\mathcal{Y}=\\mathbb{R}$ and squared loss. Suppose we are considering prediction rules from the class\n",
    "$$\n",
    "\\mathcal{F}=\\{f: \\mathbb{R} \\rightarrow \\mathbb{R}: f(x)=\\beta x \\quad \\text { with } \\beta \\in \\mathbb{R}\\}\n",
    "$$\n",
    "If you would like you can think of this as a very simple neural-network (with a single linear neuron without a bias term). Let us say we have data $\\left\\{X_{i}, Y_{i}\\right\\}_{i=1}^{n}$ and use an algorithm $^{1}$ to learn of good model from $\\mathcal{F}$ using data. In this case the solution has a very explicit form, namely\n",
    "$$\n",
    "\\hat{f}_{n}(x)=x \\underbrace{\\frac{\\sum_{i=1}^{n} X_{i} Y_{i}}{\\sum_{i=1}^{n} X_{i}^{2}}}_{=\\hat{\\beta}_{n}}\n",
    "$$"
   ]
  },
  {
   "cell_type": "code",
   "execution_count": 83,
   "metadata": {},
   "outputs": [
    {
     "data": {
      "text/plain": [
       "0.61602834861847"
      ]
     },
     "execution_count": 83,
     "metadata": {},
     "output_type": "execute_result"
    }
   ],
   "source": [
    "def beta_hat(D_x, D_y):\n",
    "    nominator = 0\n",
    "    denominator = 0\n",
    "    for x, y in zip(D_x, D_y):\n",
    "        nominator += x*y\n",
    "        \n",
    "    for x in D_x:\n",
    "        denominator += x**2\n",
    "    return nominator/denominator\n",
    "        \n",
    "beta = beta_hat(D_x, D_y)\n",
    "beta"
   ]
  },
  {
   "cell_type": "code",
   "execution_count": 84,
   "metadata": {},
   "outputs": [
    {
     "data": {
      "text/plain": [
       "(-0.8331288263898616, -0.4165635014587925)"
      ]
     },
     "execution_count": 84,
     "metadata": {},
     "output_type": "execute_result"
    }
   ],
   "source": [
    "def f_n(beta, x_i):\n",
    "    return beta * x_i\n",
    "\n",
    "f_n(beta, D_x[0]), D_y[0]"
   ]
  },
  {
   "cell_type": "markdown",
   "metadata": {},
   "source": [
    "<b>Definition 1.2 (Squared loss).</b> In regression or estimation problems the label space is generally the entire real line (or at least an interval of the real line), namely $y=\\mathbb{R}$. The squared error loss function is often considered in such settings:\n",
    "$$\n",
    "\\ell(\\hat{y}, y)=(\\hat{y}-y)^{2}\n",
    "$$\n",
    "This function is symmetric in the arguments, and has many practical and theoretical advantages - it is continuous, infinitely differentiable and convex on both arguments. It also provides a natural way to compare an estimate $\\hat{y}$ with the true value $y$ that penalizes big differences between the two."
   ]
  },
  {
   "cell_type": "code",
   "execution_count": 85,
   "metadata": {},
   "outputs": [
    {
     "data": {
      "text/plain": [
       "4.0"
      ]
     },
     "execution_count": 85,
     "metadata": {},
     "output_type": "execute_result"
    }
   ],
   "source": [
    "def squared_loss(y_hat, y):\n",
    "    return ((y_hat - y)**2).mean(axis=0)\n",
    "\n",
    "squared_loss(D_y+2, D_y) # Squared loss of 4, as expected"
   ]
  },
  {
   "cell_type": "markdown",
   "metadata": {},
   "source": [
    "Estimating the risk and expected risk empirically (essentially using the law of large numbers).\n",
    "\n",
    "<b>Definition 1.5 (Expected Risk).</b> The expected risk of a prediction rule is given by $\\mathbb{E}\\left[R\\left(\\hat{f}_{n}\\right)\\right] .$ Note that, the expectation is over the training data and any randomized choices of the learning algorithm. With heavy notational burden we\n",
    "have\n",
    "$$\n",
    "\\mathbb{E}\\left[R\\left(\\hat{f}_{n}\\right)\\right]=\\mathbb{E}\\left[\\ell\\left(\\hat{f}_{n}\\left(X ; D_{n}\\right), Y\\right)\\right]\n",
    "$$\n",
    "Where $(X, Y) \\sim D$ and independent of $D_{n}=\\left\\{\\left(X_{i}, Y_{i}\\right)\\right\\}_{i=1}^{n} \\stackrel{i . i . d}{\\sim} D$."
   ]
  },
  {
   "cell_type": "code",
   "execution_count": 87,
   "metadata": {},
   "outputs": [
    {
     "data": {
      "image/png": "[encoded data removed]",
      "text/plain": [
       "<Figure size 432x288 with 1 Axes>"
      ]
     },
     "metadata": {
      "needs_background": "light"
     },
     "output_type": "display_data"
    },
    {
     "data": {
      "text/plain": [
       "('Emperical loss', 0.7241405027802881)"
      ]
     },
     "execution_count": 87,
     "metadata": {},
     "output_type": "execute_result"
    }
   ],
   "source": [
    "y_hat = np.array([f_n(beta, x_i) for x_i in D_x])\n",
    "\n",
    "plt.plot(D_x, D_y, 'x')\n",
    "plt.plot(D_x, y_hat, '-g')\n",
    "plt.axis('equal')\n",
    "plt.show()\n",
    "\"Emperical loss\", squared_loss(y_hat, D_y)"
   ]
  },
  {
   "cell_type": "markdown",
   "metadata": {},
   "source": [
    "<b>Different distributions</b> for the given candidate models."
   ]
  },
  {
   "cell_type": "code",
   "execution_count": 88,
   "metadata": {},
   "outputs": [
    {
     "data": {
      "image/png": "[encoded data removed]",
      "text/plain": [
       "<Figure size 432x288 with 1 Axes>"
      ]
     },
     "metadata": {
      "needs_background": "light"
     },
     "output_type": "display_data"
    }
   ],
   "source": [
    "D_x, D_y = np.random.normal(2, 3, size=100), np.random.normal(2, 1, size=100)\n",
    "\n",
    "plot(D_x, D_y)"
   ]
  },
  {
   "cell_type": "code",
   "execution_count": 89,
   "metadata": {},
   "outputs": [
    {
     "data": {
      "text/plain": [
       "('Emperical loss', 4.077492353070804, 'beta: ', 0.33870708207177896)"
      ]
     },
     "execution_count": 89,
     "metadata": {},
     "output_type": "execute_result"
    }
   ],
   "source": [
    "beta = beta_hat(D_x, D_y)\n",
    "y_hat = np.array([f_n(beta, x_i) for x_i in D_x])\n",
    "\n",
    "\"Emperical loss\", squared_loss(y_hat, D_y), \"beta: \", beta"
   ]
  },
  {
   "cell_type": "code",
   "execution_count": 90,
   "metadata": {},
   "outputs": [
    {
     "data": {
      "image/png": "[encoded data removed]",
      "text/plain": [
       "<Figure size 432x288 with 1 Axes>"
      ]
     },
     "metadata": {
      "needs_background": "light"
     },
     "output_type": "display_data"
    }
   ],
   "source": [
    "plt.plot(D_x, D_y, 'x')\n",
    "plt.plot(D_x, y_hat, '-g')\n",
    "plt.axis('equal')\n",
    "plt.show()"
   ]
  },
  {
   "cell_type": "code",
   "execution_count": null,
   "metadata": {},
   "outputs": [],
   "source": []
  }
 ],
 "metadata": {
  "kernelspec": {
   "display_name": "Python 3",
   "language": "python",
   "name": "python3"
  },
  "language_info": {
   "codemirror_mode": {
    "name": "ipython",
    "version": 3
   },
   "file_extension": ".py",
   "mimetype": "text/x-python",
   "name": "python",
   "nbconvert_exporter": "python",
   "pygments_lexer": "ipython3",
   "version": "3.9.1"
  }
 },
 "nbformat": 4,
 "nbformat_minor": 4
}
